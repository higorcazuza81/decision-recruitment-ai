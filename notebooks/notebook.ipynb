{
 "cells": [
  {
   "cell_type": "code",
   "execution_count": 2,
   "metadata": {},
   "outputs": [],
   "source": [
    "# Imports básicos\n",
    "import json\n",
    "import pandas as pd\n",
    "import numpy as np\n",
    "from sklearn.model_selection import train_test_split, GridSearchCV\n",
    "from sklearn.preprocessing import OneHotEncoder, LabelEncoder, MultiLabelBinarizer\n",
    "from sklearn.pipeline import Pipeline\n",
    "from sklearn.compose import ColumnTransformer\n",
    "from sklearn.ensemble import RandomForestClassifier\n",
    "from sklearn.linear_model import LogisticRegression\n",
    "from sklearn.metrics import classification_report, roc_auc_score, accuracy_score, precision_score, recall_score, f1_score\n",
    "from xgboost import XGBClassifier\n"
   ]
  },
  {
   "cell_type": "code",
   "execution_count": 9,
   "metadata": {},
   "outputs": [],
   "source": [
    "# 📌 1. Importar bibliotecas\n",
    "import pandas as pd\n",
    "import json\n",
    "\n",
    "# 📌 2. Carregar os arquivos JSON\n",
    "with open(\"../data/raw/applicants.json\", \"r\", encoding=\"utf-8\") as f:\n",
    "    applicants_data = json.load(f)\n",
    "\n",
    "with open(\"../data/raw/prospects.json\", \"r\", encoding=\"utf-8\") as f:\n",
    "    content = f.read()\n",
    "    try:\n",
    "        prospects_data = json.loads(content)\n",
    "    except json.JSONDecodeError as e:\n",
    "        print(\"Erro ao interpretar prospects.json:\", e)\n",
    "        prospects_data = []\n",
    "\n",
    "with open(\"../data/raw/vagas.json\", \"r\", encoding=\"utf-8\") as f:\n",
    "    vagas_data = json.load(f)"
   ]
  },
  {
   "cell_type": "code",
   "execution_count": 17,
   "metadata": {},
   "outputs": [
    {
     "name": "stdout",
     "output_type": "stream",
     "text": [
      "✔ Applicants carregados: 1 registros\n",
      "✔ Vagas carregadas: 1 registros\n"
     ]
    }
   ],
   "source": [
    "# 📌 2. Carregar applicants.json\n",
    "with open('../data/raw/applicants.json', 'r', encoding='utf-8') as f:\n",
    "    applicants_data = json.load(f)\n",
    "\n",
    "df_applicants = pd.json_normalize(applicants_data)\n",
    "print(f\"✔ Applicants carregados: {df_applicants.shape[0]} registros\")\n",
    "\n",
    "# 📌 3. Carregar vagas.json\n",
    "with open('../data/raw/vagas.json', 'r', encoding='utf-8') as f:\n",
    "    vagas_data = json.load(f)\n",
    "\n",
    "df_vagas = pd.json_normalize(vagas_data)\n",
    "print(f\"✔ Vagas carregadas: {df_vagas.shape[0]} registros\")\n",
    "\n",
    "# 📌 4. Carregar prospects.json (dict de vagas com prospects)\n",
    "with open('../data/raw/prospects.json', 'r', encoding='utf-8') as f:\n",
    "    prospects_data = json.load(f)"
   ]
  },
  {
   "cell_type": "code",
   "execution_count": 18,
   "metadata": {},
   "outputs": [
    {
     "data": {
      "text/html": [
       "<div>\n",
       "<style scoped>\n",
       "    .dataframe tbody tr th:only-of-type {\n",
       "        vertical-align: middle;\n",
       "    }\n",
       "\n",
       "    .dataframe tbody tr th {\n",
       "        vertical-align: top;\n",
       "    }\n",
       "\n",
       "    .dataframe thead th {\n",
       "        text-align: right;\n",
       "    }\n",
       "</style>\n",
       "<table border=\"1\" class=\"dataframe\">\n",
       "  <thead>\n",
       "    <tr style=\"text-align: right;\">\n",
       "      <th></th>\n",
       "      <th>31000.infos_basicas.telefone_recado</th>\n",
       "      <th>31000.infos_basicas.telefone</th>\n",
       "      <th>31000.infos_basicas.objetivo_profissional</th>\n",
       "      <th>31000.infos_basicas.data_criacao</th>\n",
       "      <th>31000.infos_basicas.inserido_por</th>\n",
       "      <th>31000.infos_basicas.email</th>\n",
       "      <th>31000.infos_basicas.local</th>\n",
       "      <th>31000.infos_basicas.sabendo_de_nos_por</th>\n",
       "      <th>31000.infos_basicas.data_atualizacao</th>\n",
       "      <th>31000.infos_basicas.codigo_profissional</th>\n",
       "      <th>...</th>\n",
       "      <th>5999.informacoes_profissionais.certificacoes</th>\n",
       "      <th>5999.informacoes_profissionais.outras_certificacoes</th>\n",
       "      <th>5999.informacoes_profissionais.remuneracao</th>\n",
       "      <th>5999.informacoes_profissionais.nivel_profissional</th>\n",
       "      <th>5999.formacao_e_idiomas.nivel_academico</th>\n",
       "      <th>5999.formacao_e_idiomas.nivel_ingles</th>\n",
       "      <th>5999.formacao_e_idiomas.nivel_espanhol</th>\n",
       "      <th>5999.formacao_e_idiomas.outro_idioma</th>\n",
       "      <th>5999.cv_pt</th>\n",
       "      <th>5999.cv_en</th>\n",
       "    </tr>\n",
       "  </thead>\n",
       "  <tbody>\n",
       "    <tr>\n",
       "      <th>0</th>\n",
       "      <td></td>\n",
       "      <td>(11) 97048-2708</td>\n",
       "      <td></td>\n",
       "      <td>10-11-2021 07:29:49</td>\n",
       "      <td>Luna Correia</td>\n",
       "      <td>carolina_aparecida@gmail.com</td>\n",
       "      <td></td>\n",
       "      <td></td>\n",
       "      <td>10-11-2021 07:29:49</td>\n",
       "      <td>31000</td>\n",
       "      <td>...</td>\n",
       "      <td></td>\n",
       "      <td></td>\n",
       "      <td>0</td>\n",
       "      <td></td>\n",
       "      <td></td>\n",
       "      <td></td>\n",
       "      <td></td>\n",
       "      <td>-</td>\n",
       "      <td></td>\n",
       "      <td></td>\n",
       "    </tr>\n",
       "  </tbody>\n",
       "</table>\n",
       "<p>1 rows × 1738606 columns</p>\n",
       "</div>"
      ],
      "text/plain": [
       "  31000.infos_basicas.telefone_recado 31000.infos_basicas.telefone  \\\n",
       "0                                                  (11) 97048-2708   \n",
       "\n",
       "  31000.infos_basicas.objetivo_profissional 31000.infos_basicas.data_criacao  \\\n",
       "0                                                        10-11-2021 07:29:49   \n",
       "\n",
       "  31000.infos_basicas.inserido_por     31000.infos_basicas.email  \\\n",
       "0                     Luna Correia  carolina_aparecida@gmail.com   \n",
       "\n",
       "  31000.infos_basicas.local 31000.infos_basicas.sabendo_de_nos_por  \\\n",
       "0                                                                    \n",
       "\n",
       "  31000.infos_basicas.data_atualizacao  \\\n",
       "0                  10-11-2021 07:29:49   \n",
       "\n",
       "  31000.infos_basicas.codigo_profissional  ...  \\\n",
       "0                                   31000  ...   \n",
       "\n",
       "  5999.informacoes_profissionais.certificacoes  \\\n",
       "0                                                \n",
       "\n",
       "  5999.informacoes_profissionais.outras_certificacoes  \\\n",
       "0                                                       \n",
       "\n",
       "  5999.informacoes_profissionais.remuneracao  \\\n",
       "0                                          0   \n",
       "\n",
       "  5999.informacoes_profissionais.nivel_profissional  \\\n",
       "0                                                     \n",
       "\n",
       "  5999.formacao_e_idiomas.nivel_academico  \\\n",
       "0                                           \n",
       "\n",
       "  5999.formacao_e_idiomas.nivel_ingles 5999.formacao_e_idiomas.nivel_espanhol  \\\n",
       "0                                                                               \n",
       "\n",
       "  5999.formacao_e_idiomas.outro_idioma 5999.cv_pt 5999.cv_en  \n",
       "0                                    -                        \n",
       "\n",
       "[1 rows x 1738606 columns]"
      ]
     },
     "execution_count": 18,
     "metadata": {},
     "output_type": "execute_result"
    }
   ],
   "source": [
    "df_applicants.head()"
   ]
  },
  {
   "cell_type": "code",
   "execution_count": 19,
   "metadata": {},
   "outputs": [
    {
     "name": "stdout",
     "output_type": "stream",
     "text": [
      "✔ Prospects normalizados: 53759 registros\n"
     ]
    }
   ],
   "source": [
    "# 📌 5. Normalizar dados de prospects com info da vaga\n",
    "prospect_list = []\n",
    "\n",
    "for vaga_id, vaga_info in prospects_data.items():\n",
    "    titulo_vaga = vaga_info.get(\"titulo\", \"\")\n",
    "    modalidade = vaga_info.get(\"modalidade\", \"\")\n",
    "    \n",
    "    for prospect in vaga_info.get(\"prospects\", []):\n",
    "        prospect[\"vaga_id\"] = vaga_id\n",
    "        prospect[\"titulo_vaga\"] = titulo_vaga\n",
    "        prospect[\"modalidade\"] = modalidade\n",
    "        prospect_list.append(prospect)\n",
    "\n",
    "df_prospects = pd.json_normalize(prospect_list)\n",
    "print(f\"✔ Prospects normalizados: {df_prospects.shape[0]} registros\")"
   ]
  },
  {
   "cell_type": "code",
   "execution_count": null,
   "metadata": {},
   "outputs": [],
   "source": [
    "print(\"📋 Colunas em df_applicants:\", df_applicants.columns.tolist())\n"
   ]
  },
  {
   "cell_type": "code",
   "execution_count": 20,
   "metadata": {},
   "outputs": [
    {
     "ename": "KeyError",
     "evalue": "'codigo'",
     "output_type": "error",
     "traceback": [
      "\u001b[31m---------------------------------------------------------------------------\u001b[39m",
      "\u001b[31mKeyError\u001b[39m                                  Traceback (most recent call last)",
      "\u001b[36mFile \u001b[39m\u001b[32mc:\\Users\\Unidade.ESFSPAULO-64\\Documents\\decision\\venv\\Lib\\site-packages\\pandas\\core\\indexes\\base.py:3805\u001b[39m, in \u001b[36mIndex.get_loc\u001b[39m\u001b[34m(self, key)\u001b[39m\n\u001b[32m   3804\u001b[39m \u001b[38;5;28;01mtry\u001b[39;00m:\n\u001b[32m-> \u001b[39m\u001b[32m3805\u001b[39m     \u001b[38;5;28;01mreturn\u001b[39;00m \u001b[38;5;28;43mself\u001b[39;49m\u001b[43m.\u001b[49m\u001b[43m_engine\u001b[49m\u001b[43m.\u001b[49m\u001b[43mget_loc\u001b[49m\u001b[43m(\u001b[49m\u001b[43mcasted_key\u001b[49m\u001b[43m)\u001b[49m\n\u001b[32m   3806\u001b[39m \u001b[38;5;28;01mexcept\u001b[39;00m \u001b[38;5;167;01mKeyError\u001b[39;00m \u001b[38;5;28;01mas\u001b[39;00m err:\n",
      "\u001b[36mFile \u001b[39m\u001b[32mindex.pyx:167\u001b[39m, in \u001b[36mpandas._libs.index.IndexEngine.get_loc\u001b[39m\u001b[34m()\u001b[39m\n",
      "\u001b[36mFile \u001b[39m\u001b[32mindex.pyx:196\u001b[39m, in \u001b[36mpandas._libs.index.IndexEngine.get_loc\u001b[39m\u001b[34m()\u001b[39m\n",
      "\u001b[36mFile \u001b[39m\u001b[32mpandas\\\\_libs\\\\hashtable_class_helper.pxi:7081\u001b[39m, in \u001b[36mpandas._libs.hashtable.PyObjectHashTable.get_item\u001b[39m\u001b[34m()\u001b[39m\n",
      "\u001b[36mFile \u001b[39m\u001b[32mpandas\\\\_libs\\\\hashtable_class_helper.pxi:7089\u001b[39m, in \u001b[36mpandas._libs.hashtable.PyObjectHashTable.get_item\u001b[39m\u001b[34m()\u001b[39m\n",
      "\u001b[31mKeyError\u001b[39m: 'codigo'",
      "\nThe above exception was the direct cause of the following exception:\n",
      "\u001b[31mKeyError\u001b[39m                                  Traceback (most recent call last)",
      "\u001b[36mCell\u001b[39m\u001b[36m \u001b[39m\u001b[32mIn[20]\u001b[39m\u001b[32m, line 2\u001b[39m\n\u001b[32m      1\u001b[39m \u001b[38;5;66;03m# 📌 6. Padronizar o tipo de código para merge\u001b[39;00m\n\u001b[32m----> \u001b[39m\u001b[32m2\u001b[39m df_applicants[\u001b[33m\"\u001b[39m\u001b[33mcodigo\u001b[39m\u001b[33m\"\u001b[39m] = \u001b[43mdf_applicants\u001b[49m\u001b[43m[\u001b[49m\u001b[33;43m\"\u001b[39;49m\u001b[33;43mcodigo\u001b[39;49m\u001b[33;43m\"\u001b[39;49m\u001b[43m]\u001b[49m.astype(\u001b[38;5;28mstr\u001b[39m)\n\u001b[32m      3\u001b[39m df_prospects[\u001b[33m\"\u001b[39m\u001b[33mcodigo\u001b[39m\u001b[33m\"\u001b[39m] = df_prospects[\u001b[33m\"\u001b[39m\u001b[33mcodigo\u001b[39m\u001b[33m\"\u001b[39m].astype(\u001b[38;5;28mstr\u001b[39m)\n\u001b[32m      4\u001b[39m df_vagas[\u001b[33m\"\u001b[39m\u001b[33mid\u001b[39m\u001b[33m\"\u001b[39m] = df_vagas[\u001b[33m\"\u001b[39m\u001b[33mid\u001b[39m\u001b[33m\"\u001b[39m].astype(\u001b[38;5;28mstr\u001b[39m)\n",
      "\u001b[36mFile \u001b[39m\u001b[32mc:\\Users\\Unidade.ESFSPAULO-64\\Documents\\decision\\venv\\Lib\\site-packages\\pandas\\core\\frame.py:4102\u001b[39m, in \u001b[36mDataFrame.__getitem__\u001b[39m\u001b[34m(self, key)\u001b[39m\n\u001b[32m   4100\u001b[39m \u001b[38;5;28;01mif\u001b[39;00m \u001b[38;5;28mself\u001b[39m.columns.nlevels > \u001b[32m1\u001b[39m:\n\u001b[32m   4101\u001b[39m     \u001b[38;5;28;01mreturn\u001b[39;00m \u001b[38;5;28mself\u001b[39m._getitem_multilevel(key)\n\u001b[32m-> \u001b[39m\u001b[32m4102\u001b[39m indexer = \u001b[38;5;28;43mself\u001b[39;49m\u001b[43m.\u001b[49m\u001b[43mcolumns\u001b[49m\u001b[43m.\u001b[49m\u001b[43mget_loc\u001b[49m\u001b[43m(\u001b[49m\u001b[43mkey\u001b[49m\u001b[43m)\u001b[49m\n\u001b[32m   4103\u001b[39m \u001b[38;5;28;01mif\u001b[39;00m is_integer(indexer):\n\u001b[32m   4104\u001b[39m     indexer = [indexer]\n",
      "\u001b[36mFile \u001b[39m\u001b[32mc:\\Users\\Unidade.ESFSPAULO-64\\Documents\\decision\\venv\\Lib\\site-packages\\pandas\\core\\indexes\\base.py:3812\u001b[39m, in \u001b[36mIndex.get_loc\u001b[39m\u001b[34m(self, key)\u001b[39m\n\u001b[32m   3807\u001b[39m     \u001b[38;5;28;01mif\u001b[39;00m \u001b[38;5;28misinstance\u001b[39m(casted_key, \u001b[38;5;28mslice\u001b[39m) \u001b[38;5;129;01mor\u001b[39;00m (\n\u001b[32m   3808\u001b[39m         \u001b[38;5;28misinstance\u001b[39m(casted_key, abc.Iterable)\n\u001b[32m   3809\u001b[39m         \u001b[38;5;129;01mand\u001b[39;00m \u001b[38;5;28many\u001b[39m(\u001b[38;5;28misinstance\u001b[39m(x, \u001b[38;5;28mslice\u001b[39m) \u001b[38;5;28;01mfor\u001b[39;00m x \u001b[38;5;129;01min\u001b[39;00m casted_key)\n\u001b[32m   3810\u001b[39m     ):\n\u001b[32m   3811\u001b[39m         \u001b[38;5;28;01mraise\u001b[39;00m InvalidIndexError(key)\n\u001b[32m-> \u001b[39m\u001b[32m3812\u001b[39m     \u001b[38;5;28;01mraise\u001b[39;00m \u001b[38;5;167;01mKeyError\u001b[39;00m(key) \u001b[38;5;28;01mfrom\u001b[39;00m\u001b[38;5;250m \u001b[39m\u001b[34;01merr\u001b[39;00m\n\u001b[32m   3813\u001b[39m \u001b[38;5;28;01mexcept\u001b[39;00m \u001b[38;5;167;01mTypeError\u001b[39;00m:\n\u001b[32m   3814\u001b[39m     \u001b[38;5;66;03m# If we have a listlike key, _check_indexing_error will raise\u001b[39;00m\n\u001b[32m   3815\u001b[39m     \u001b[38;5;66;03m#  InvalidIndexError. Otherwise we fall through and re-raise\u001b[39;00m\n\u001b[32m   3816\u001b[39m     \u001b[38;5;66;03m#  the TypeError.\u001b[39;00m\n\u001b[32m   3817\u001b[39m     \u001b[38;5;28mself\u001b[39m._check_indexing_error(key)\n",
      "\u001b[31mKeyError\u001b[39m: 'codigo'"
     ]
    }
   ],
   "source": [
    "# 📌 6. Padronizar o tipo de código para merge\n",
    "df_applicants[\"codigo\"] = df_applicants[\"codigo\"].astype(str)\n",
    "df_prospects[\"codigo\"] = df_prospects[\"codigo\"].astype(str)\n",
    "df_vagas[\"id\"] = df_vagas[\"id\"].astype(str)"
   ]
  }
 ],
 "metadata": {
  "kernelspec": {
   "display_name": "ds_env",
   "language": "python",
   "name": "python3"
  },
  "language_info": {
   "codemirror_mode": {
    "name": "ipython",
    "version": 3
   },
   "file_extension": ".py",
   "mimetype": "text/x-python",
   "name": "python",
   "nbconvert_exporter": "python",
   "pygments_lexer": "ipython3",
   "version": "3.11.11"
  }
 },
 "nbformat": 4,
 "nbformat_minor": 2
}
